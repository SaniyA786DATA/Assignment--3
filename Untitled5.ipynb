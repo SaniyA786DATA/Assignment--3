{
 "cells": [
  {
   "cell_type": "markdown",
   "id": "2f14df16",
   "metadata": {},
   "source": [
    "# Assignment - 3"
   ]
  },
  {
   "cell_type": "markdown",
   "id": "9f959631",
   "metadata": {},
   "source": [
    "Q.1 Why are functions advantageous to have in your programs?"
   ]
  },
  {
   "cell_type": "markdown",
   "id": "7243fcfc",
   "metadata": {},
   "source": [
    "Ans.functions advantageous to have in our programs because it is block of codes if i write more code line so i can use function reduce the need for duplicate code. This makes programs shorter, easier to read, and easier to update."
   ]
  },
  {
   "cell_type": "markdown",
   "id": "a5793e6b",
   "metadata": {},
   "source": [
    "Q.2 When does the code in a function run: when it's specified or when it's called?"
   ]
  },
  {
   "cell_type": "markdown",
   "id": "2ad19b17",
   "metadata": {},
   "source": [
    "Ans.The code in a function run when its called"
   ]
  },
  {
   "cell_type": "markdown",
   "id": "96619ae5",
   "metadata": {},
   "source": [
    "Q3. What statement creates a function?"
   ]
  },
  {
   "cell_type": "markdown",
   "id": "ea511f87",
   "metadata": {},
   "source": [
    "Ans.def statement creates a function def mean defination Use the keyword def to declare the function and follow this up with the function name. Add parameters to the function: they should be within the parentheses of the function. End your line with a colon. Add statements that the functions should execute."
   ]
  },
  {
   "cell_type": "markdown",
   "id": "507acd86",
   "metadata": {},
   "source": [
    "4. What is the difference between a function and a function call?"
   ]
  },
  {
   "cell_type": "markdown",
   "id": "9b3ccdba",
   "metadata": {},
   "source": [
    "Ans.function is create function and take input like def variable(argument):perameter this is functin \n",
    "function call is give us output like variable(give arguments)and take output "
   ]
  },
  {
   "cell_type": "markdown",
   "id": "f4314572",
   "metadata": {},
   "source": [
    "Q5.How many global scopes are there in a Python program? How many local scopes?"
   ]
  },
  {
   "cell_type": "markdown",
   "id": "b09dd27a",
   "metadata": {},
   "source": [
    "Ans.At any given time during execution, you'll have at most four active Python scopes—local, enclosing, global, and built-in—depending on where you are in the code. On the other hand, you'll always have at least two active scopes, which are the global and built-in scopes."
   ]
  },
  {
   "cell_type": "markdown",
   "id": "719f52d7",
   "metadata": {},
   "source": [
    "6. What happens to variables in a local scope when the function call returns?"
   ]
  },
  {
   "cell_type": "markdown",
   "id": "92ce1f66",
   "metadata": {},
   "source": [
    "Ans.The local variables are destroyed."
   ]
  },
  {
   "cell_type": "markdown",
   "id": "7927a94c",
   "metadata": {},
   "source": [
    "7. What is the concept of a return value? Is it possible to have a return value in an expression?"
   ]
  },
  {
   "cell_type": "markdown",
   "id": "b26563d1",
   "metadata": {},
   "source": [
    "Ans. All Python functions have a return value, either explicit or implicit.A return statement is used to end the execution of the function call and “returns” the result (value of the expression following the return"
   ]
  },
  {
   "cell_type": "markdown",
   "id": "38c2c08b",
   "metadata": {},
   "source": [
    "8. If a function does not have a return statement, what is the return value of a call to that function?"
   ]
  },
  {
   "cell_type": "markdown",
   "id": "e631dc9e",
   "metadata": {},
   "source": [
    "Ans.if a function dose not have a return statement so none is the retrn value of a cll to that function "
   ]
  },
  {
   "cell_type": "markdown",
   "id": "290416ca",
   "metadata": {},
   "source": [
    "9. How do you make a function variable refer to the global variable?\n"
   ]
  },
  {
   "cell_type": "markdown",
   "id": "9525f9a6",
   "metadata": {},
   "source": [
    "Ans.To create a global variable inside a function, you can use the global keyword."
   ]
  },
  {
   "cell_type": "markdown",
   "id": "7f805d50",
   "metadata": {},
   "source": [
    "10. What is the data type of None?\n"
   ]
  },
  {
   "cell_type": "markdown",
   "id": "46e6b8c4",
   "metadata": {},
   "source": [
    "Ans.none type becuse none is none Type"
   ]
  },
  {
   "cell_type": "markdown",
   "id": "1d9318cf",
   "metadata": {},
   "source": [
    "11. What does the sentence import areallyourpetsnamederic do?\n"
   ]
  },
  {
   "cell_type": "markdown",
   "id": "e4a0e2e2",
   "metadata": {},
   "source": [
    "Ans.if you had a function named bacon() in a module named spam, how would you call it after importing spam"
   ]
  },
  {
   "cell_type": "markdown",
   "id": "24e303a5",
   "metadata": {},
   "source": [
    "Q 12.if you had a function named bacon() in a module named spam, how would you call it after importing spam?"
   ]
  },
  {
   "cell_type": "markdown",
   "id": "08541aa7",
   "metadata": {},
   "source": [
    "Ans.import spam\n",
    "spam.bacon()"
   ]
  },
  {
   "cell_type": "markdown",
   "id": "99021cb4",
   "metadata": {},
   "source": [
    "Q 13. What can you do to save a programme from crashing if it encounters an error?\n"
   ]
  },
  {
   "cell_type": "markdown",
   "id": "6369038c",
   "metadata": {},
   "source": [
    "Ans. We can use try except clause to save a program from crashing."
   ]
  },
  {
   "cell_type": "markdown",
   "id": "b5c922ce",
   "metadata": {},
   "source": [
    "Q14. What is the purpose of the try clause? What is the purpose of the except clause?"
   ]
  },
  {
   "cell_type": "markdown",
   "id": "2e7f8f39",
   "metadata": {},
   "source": [
    "Ans. Try and Except clause is used to handle the errors within our code . The try block is used to check some code for errors i.e the code inside the try block will execute when there is no error in the program. Whereas the code inside the except block will execute whenever the program encounters some error in the try block.\n",
    "\n",
    "Eg. try:\n",
    "# Code\n",
    "except:\n",
    "# Executed if error in the\n",
    "# try block"
   ]
  },
  {
   "cell_type": "code",
   "execution_count": null,
   "id": "04e150a9",
   "metadata": {},
   "outputs": [],
   "source": []
  }
 ],
 "metadata": {
  "kernelspec": {
   "display_name": "Python 3 (ipykernel)",
   "language": "python",
   "name": "python3"
  },
  "language_info": {
   "codemirror_mode": {
    "name": "ipython",
    "version": 3
   },
   "file_extension": ".py",
   "mimetype": "text/x-python",
   "name": "python",
   "nbconvert_exporter": "python",
   "pygments_lexer": "ipython3",
   "version": "3.11.4"
  }
 },
 "nbformat": 4,
 "nbformat_minor": 5
}
